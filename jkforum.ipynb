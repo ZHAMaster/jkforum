{
 "cells": [
  {
   "cell_type": "code",
   "execution_count": null,
   "metadata": {},
   "outputs": [],
   "source": [
    "\"\"\"\n",
    "開發版本：1.0\n",
    "開發日期：2021/12/27\n",
    "\"\"\""
   ]
  },
  {
   "cell_type": "code",
   "execution_count": 1,
   "metadata": {},
   "outputs": [],
   "source": [
    "from bs4 import BeautifulSoup\n",
    "import requests\n",
    "import os\n",
    "import urllib"
   ]
  },
  {
   "cell_type": "code",
   "execution_count": 3,
   "metadata": {},
   "outputs": [],
   "source": [
    "# 輸出更新條\n",
    "def update_bar(title, temp, total):\n",
    "    print('\\r' + '['+title+']:[%s%s] %s(%.2f%%)' % ('█' * int(temp/total*20), ' ' * (20-int(temp/total*20)), str(temp)+'/'+str(total), float(temp/total*100)), end='')\n",
    "    if temp == total:\n",
    "        print ('')"
   ]
  },
  {
   "cell_type": "code",
   "execution_count": 9,
   "metadata": {},
   "outputs": [
    {
     "name": "stdout",
     "output_type": "stream",
     "text": [
      "請輸入www.jkforum.net網域內的目標網址：https://www.jkforum.net/thread-14377630-1-1.html?utm_source=Line&utm_medium=txt&utm_campaign=group\n",
      "執行網頁資源抓取...\n",
      "執行成功！\n",
      "資料夾位置： 奶子被狂吸 ! IG網紅 頂級性感Coser美乳炸 。\n",
      "此次總下載圖量應為： 99 。\n",
      "======== 開始執行下載 ========\n",
      "[下載階段]:[████████████████████] 98/98(100.00%)\n",
      "=============== 目標執行完畢！ ===============\n"
     ]
    }
   ],
   "source": [
    "# 網頁連線與處理\n",
    "url = input(\"請輸入www.jkforum.net網域內的目標網址：\")\n",
    "# url = \"https://www.jkforum.net/thread-14377630-1-1.html?utm_source=Line&utm_medium=txt&utm_campaign=group\"\n",
    "headers = {'user-agent': 'Mozilla/5.0 (Windows NT 10.0; Win64; x64) AppleWebKit/537.36 (KHTML, like Gecko) Chrome/96.0.4664.45 Safari/537.36'}\n",
    "\n",
    "try:\n",
    "    print (\"執行網頁資源抓取...\")\n",
    "    response = requests.get(url, headers=headers)\n",
    "    soup = BeautifulSoup(response.text, 'lxml')\n",
    "    print (\"執行成功！\")\n",
    "    # 儲存資料夾\n",
    "    title_name = soup.title.text[:25]\n",
    "    if not os.path.exists(title_name):\n",
    "        os.makedirs(title_name)\n",
    "        print(\"創建資料夾，\" + title_name)\n",
    "\n",
    "    print (\"資料夾位置：\", title_name, \"。\")\n",
    "    \n",
    "    ignore_js_op = soup.find_all('ignore_js_op')\n",
    "    print (\"此次總下載圖量應為：\", len(ignore_js_op),\"。\")\n",
    "    \n",
    "    print (\"=============== 開始執行下載！ ===============\")\n",
    "    # 圖片截取與下載作業\n",
    "    for i in range(len(ignore_js_op)):\n",
    "        img_url = ignore_js_op[i].select(\"img\")[0].get('file')\n",
    "        img = requests.get(img_url)\n",
    "        img_path = os.path.join(title_name, str(i).zfill(6)+img_url[img_url.rfind(\".\", ):])\n",
    "        update_bar(\"下載階段\", i, len(ignore_js_op)-1)\n",
    "        if not os.path.isfile(img_path):\n",
    "            with open(img_path, 'wb') as file:\n",
    "                file.write(img.content)\n",
    "                file.flush()\n",
    "            file.close()\n",
    "    # END !\n",
    "    print (\"=============== 目標執行完畢！ ===============\")\n",
    "    input(\"按任意鍵離開\")\n",
    "\n",
    "except Exception as e :\n",
    "    print (\"ERROR COD：\", e)\n",
    "    print (\"系統判斷當前出現錯誤，若執行多次一樣有錯誤，請提供錯誤資訊 回報給ZHA。\")"
   ]
  },
  {
   "cell_type": "code",
   "execution_count": null,
   "metadata": {},
   "outputs": [],
   "source": []
  },
  {
   "cell_type": "code",
   "execution_count": null,
   "metadata": {},
   "outputs": [],
   "source": []
  },
  {
   "cell_type": "code",
   "execution_count": null,
   "metadata": {},
   "outputs": [],
   "source": []
  },
  {
   "cell_type": "code",
   "execution_count": null,
   "metadata": {},
   "outputs": [],
   "source": []
  }
 ],
 "metadata": {
  "kernelspec": {
   "display_name": "Python 3",
   "language": "python",
   "name": "python3"
  },
  "language_info": {
   "codemirror_mode": {
    "name": "ipython",
    "version": 3
   },
   "file_extension": ".py",
   "mimetype": "text/x-python",
   "name": "python",
   "nbconvert_exporter": "python",
   "pygments_lexer": "ipython3",
   "version": "3.8.5"
  }
 },
 "nbformat": 4,
 "nbformat_minor": 4
}
